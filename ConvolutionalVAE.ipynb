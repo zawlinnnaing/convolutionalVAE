{
  "nbformat": 4,
  "nbformat_minor": 0,
  "metadata": {
    "colab": {
      "name": "ConvolutionalVAE.ipynb",
      "version": "0.3.2",
      "provenance": [],
      "collapsed_sections": [],
      "include_colab_link": true
    },
    "kernelspec": {
      "name": "python3",
      "display_name": "Python 3"
    }
  },
  "cells": [
    {
      "cell_type": "markdown",
      "metadata": {
        "id": "view-in-github",
        "colab_type": "text"
      },
      "source": [
        "<a href=\"https://colab.research.google.com/github/zawlinnnaing/convolutionalVAE/blob/master/ConvolutionalVAE.ipynb\" target=\"_parent\"><img src=\"https://colab.research.google.com/assets/colab-badge.svg\" alt=\"Open In Colab\"/></a>"
      ]
    },
    {
      "cell_type": "markdown",
      "metadata": {
        "id": "bbkGuSmP1y58",
        "colab_type": "text"
      },
      "source": [
        "# Reproducing Convolutional VAE from Google Seedbank\n",
        "\n",
        "[Seedbank Work](https://research.google.com/seedbank/seed/convolutional_vae)"
      ]
    }
  ]
}